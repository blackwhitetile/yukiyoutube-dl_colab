{
  "nbformat": 4,
  "nbformat_minor": 0,
  "metadata": {
    "colab": {
      "name": "Untitled7.ipynb",
      "provenance": []
    },
    "kernelspec": {
      "name": "python3",
      "display_name": "Python 3"
    },
    "language_info": {
      "name": "python"
    }
  },
  "cells": [
    {
      "cell_type": "code",
      "metadata": {
        "id": "i_6C3SunObBo"
      },
      "source": [
        "!pip install subprocess.run youtube-dl Flask　\n",
        "!pip install flask-ngrok\n",
        "import subprocess\n",
        "import os\n",
        "from flask import Flask,request\n",
        "from flask_ngrok import run_with_ngrok\n",
        "app = Flask(__name__)\n",
        "run_with_ngrok(app)\n",
        "\n",
        "def findurl(url):\n",
        "    p = subprocess.run([\"youtube-dl\",\"--socket-timeout\",\"3\",\"--geo-bypass\",\"-f\",\"best\",\"--get-url\",\"--skip-download\",\"--default-search\",\"ytsearch1:\",url], stdout=subprocess.PIPE, text=True)\n",
        "    return p.stdout.strip()\n",
        "\n",
        "@app.route('/')\n",
        "def info():\n",
        "    return \"\"\"<br>https://yukiyoutube-dl.herokuapp.com/youtube?url=の後に検索したい言葉かダウンロードしたいURLを入れてください。<br><br>言葉を入れた場合、youtubeの検索結果の一番上のURLを返します。<br><br>例：https://yukiyoutube-dl.herokuapp.com/youtube?url=踊<br><br>URLの場合はyoutube以外のサイトもダウンロードできます。<br>\"\"\"\n",
        "@app.route('/youtube',methods=[\"GET\"])\n",
        "def url():\n",
        "    url = request.args.get(\"url\")\n",
        "    a = findurl(url)\n",
        "    print(a)\n",
        "    return f'<a href=\"{a}\">これがURLだぁぁぁぁぁぁ</a>'\n",
        "\n",
        "if __name__ == \"__main__\":\n",
        "    app.run()"
      ],
      "execution_count": null,
      "outputs": []
    }
  ]
}